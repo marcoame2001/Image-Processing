{
 "cells": [
  {
   "cell_type": "code",
   "execution_count": 1,
   "metadata": {},
   "outputs": [
    {
     "name": "stderr",
     "output_type": "stream",
     "text": [
      "C:\\Users\\Marco\\AppData\\Local\\Packages\\PythonSoftwareFoundation.Python.3.9_qbz5n2kfra8p0\\LocalCache\\local-packages\\Python39\\site-packages\\tqdm\\auto.py:22: TqdmWarning: IProgress not found. Please update jupyter and ipywidgets. See https://ipywidgets.readthedocs.io/en/stable/user_install.html\n",
      "  from .autonotebook import tqdm as notebook_tqdm\n"
     ]
    }
   ],
   "source": [
    "import numpy as np\n",
    "import skimage\n",
    "import utils\n",
    "import pathlib"
   ]
  },
  {
   "cell_type": "code",
   "execution_count": 168,
   "metadata": {},
   "outputs": [],
   "source": [
    "def otsu_thresholding(im: np.ndarray) -> int:\n",
    "\n",
    "\n",
    "    \"\"\"\n",
    "    Otsu's thresholding algorithm that segments an image into 1 or 0 (True or False)\n",
    "    The function takes in a grayscale image and outputs a threshold value\n",
    "\n",
    "    args:\n",
    "        im: np.ndarray of shape (H, W) in the range [0, 255] (dtype=np.uint8)\n",
    "    return:\n",
    "        (int) the computed thresholding value\n",
    "    \"\"\"\n",
    "\n",
    "    assert im.dtype == np.uint8\n",
    "\n",
    "    #normalized histogram\n",
    "    hist = np.histogram(im, bins=np.arange(257), density=True)[0]\n",
    "   \n",
    "    #list for cumulative sums\n",
    "    cumulative_sums = []\n",
    "    #counter for cumulative sums\n",
    "    current_sum = 0 \n",
    "    comp_cum= []\n",
    "    \n",
    "    #cumulative sum--->histogram\n",
    "    for i in hist:\n",
    "        current_sum+=i\n",
    "        cumulative_sums.append(current_sum)\n",
    "        comp_cum.append(1-current_sum)\n",
    "       \n",
    "    \n",
    "    #convert to np array to iterate easily\n",
    "    cumulative_sums_np = np.array(cumulative_sums)\n",
    "    comp_cum_np = np.array(comp_cum)\n",
    "    \n",
    "    #cumulative average using numpy\n",
    "    cumulative_mean = np.cumsum(np.arange(256) * hist)\n",
    "    mg = cumulative_mean[len(cumulative_mean)-1] #global mean\n",
    "\n",
    "    if np.not_equal(cumulative_sums_np*comp_cum_np,0.00000000e+00).any(): #to avoid division by 0\n",
    "        sig = (mg * cumulative_sums_np - cumulative_mean)**2 / (cumulative_sums_np * comp_cum_np)\n",
    "     \n",
    "    sig =np.nan_to_num(sig, copy=True, nan=0.0) #replace generated nan values\n",
    "    \n",
    "    return np.argmax((sig))"
   ]
  },
  {
   "cell_type": "code",
   "execution_count": 169,
   "metadata": {},
   "outputs": [
    {
     "name": "stdout",
     "output_type": "stream",
     "text": [
      "Reading image: images\\thumbprint.png\n",
      "Found optimal threshold: 153\n",
      "Saving image to: image_processed\\thumbprint-segmented.png\n",
      "Reading image: images\\polymercell.png\n",
      "Found optimal threshold: 181\n",
      "Saving image to: image_processed\\polymercell-segmented.png\n"
     ]
    },
    {
     "name": "stderr",
     "output_type": "stream",
     "text": [
      "C:\\Users\\Marco\\AppData\\Local\\Temp\\ipykernel_14860\\2867839640.py:41: RuntimeWarning: invalid value encountered in true_divide\n",
      "  sig = (mg * cumulative_sums_np - cumulative_mean)**2 / (cumulative_sums_np * comp_cum_np)\n",
      "C:\\Users\\Marco\\AppData\\Local\\Temp\\ipykernel_14860\\1997791817.py:16: DeprecationWarning: `np.bool` is a deprecated alias for the builtin `bool`. To silence this warning, use `bool` by itself. Doing this will not modify any behavior and is safe. If you specifically wanted the numpy scalar type, use `np.bool_` here.\n",
      "Deprecated in NumPy 1.20; for more details and guidance: https://numpy.org/devdocs/release/1.20.0-notes.html#deprecations\n",
      "  assert segmented_image.dtype == np.bool, \"Expected thresholded image dtype to be np.bool. Was: {}\".format(\n"
     ]
    }
   ],
   "source": [
    "if __name__ == \"__main__\":\n",
    "    # DO NOT CHANGE\n",
    "    impaths_to_segment = [\n",
    "        pathlib.Path(\"thumbprint.png\"),\n",
    "        pathlib.Path(\"polymercell.png\")\n",
    "    ]\n",
    "    for impath in impaths_to_segment:\n",
    "        im = utils.read_image(impath)\n",
    "        threshold = otsu_thresholding(im)\n",
    "        print(\"Found optimal threshold:\", threshold)\n",
    "\n",
    "        # Segment the image by threshold\n",
    "        segmented_image = (im >= threshold)\n",
    "        assert im.shape == segmented_image.shape, \"Expected image shape ({}) to be same as thresholded image shape ({})\".format(\n",
    "                im.shape, segmented_image.shape)\n",
    "        assert segmented_image.dtype == np.bool, \"Expected thresholded image dtype to be np.bool. Was: {}\".format(\n",
    "                segmented_image.dtype)\n",
    "\n",
    "        segmented_image = utils.to_uint8(segmented_image)\n",
    "\n",
    "        save_path = \"{}-segmented.png\".format(impath.stem)\n",
    "        utils.save_im(save_path, segmented_image)"
   ]
  }
 ],
 "metadata": {
  "kernelspec": {
   "display_name": "Python 3.9.13 64-bit (microsoft store)",
   "language": "python",
   "name": "python3"
  },
  "language_info": {
   "codemirror_mode": {
    "name": "ipython",
    "version": 3
   },
   "file_extension": ".py",
   "mimetype": "text/x-python",
   "name": "python",
   "nbconvert_exporter": "python",
   "pygments_lexer": "ipython3",
   "version": "3.9.13"
  },
  "vscode": {
   "interpreter": {
    "hash": "06cf422a2cd8d706afb2d7dababd374b1cf2a61f92af53d13a33dba8380d7ca3"
   }
  }
 },
 "nbformat": 4,
 "nbformat_minor": 4
}
