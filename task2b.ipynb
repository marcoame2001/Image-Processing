{
 "cells": [
  {
   "cell_type": "code",
   "execution_count": 1,
   "metadata": {},
   "outputs": [
    {
     "name": "stderr",
     "output_type": "stream",
     "text": [
      "C:\\Users\\Marco\\AppData\\Local\\Packages\\PythonSoftwareFoundation.Python.3.9_qbz5n2kfra8p0\\LocalCache\\local-packages\\Python39\\site-packages\\tqdm\\auto.py:22: TqdmWarning: IProgress not found. Please update jupyter and ipywidgets. See https://ipywidgets.readthedocs.io/en/stable/user_install.html\n",
      "  from .autonotebook import tqdm as notebook_tqdm\n"
     ]
    }
   ],
   "source": [
    "import utils\n",
    "import numpy as np"
   ]
  },
  {
   "cell_type": "code",
   "execution_count": 78,
   "metadata": {},
   "outputs": [],
   "source": [
    "def iterate_through_seeds(im: np.ndarray, seed_points: list, T: int, segmented):\n",
    "        for seed in seed_points:\n",
    "            image_matrix = im\n",
    "            threshold = T\n",
    "            segmented_val = segmented\n",
    "            list_coordinates = []\n",
    "            list_coordinates.append(seed)\n",
    "            seed_intesity = im[seed[0], seed[1]]\n",
    "            while len(list_coordinates)> 0:\n",
    "                row,col = list_coordinates.pop() #returns the deleted pair\n",
    "                moore_neighborhood_check(row,col,list_coordinates,seed_intesity,segmented_val, image_matrix,threshold)\n",
    "                               \n",
    "        return segmented_val\n",
    "\n",
    "\n",
    "def moore_neighborhood_check(row,col,list_coordinates,seed_intesity,segmented,im,T):\n",
    "\n",
    "    if (row > 0) and (not segmented[row - 1, col]) and np.abs(im[row - 1, col] - seed_intesity) <= T  and segmented[row - 1, col] == False:\n",
    "        list_coordinates.append([row - 1, col])\n",
    "        segmented[row - 1, col] = True \n",
    "        \n",
    "    if (row < im.shape[0]-1) and (not segmented[row + 1, col]) and np.abs(im[row + 1, col] - seed_intesity) <= T  and segmented[row + 1, col] == False:\n",
    "        list_coordinates.append([row + 1, col])\n",
    "        segmented[row + 1, col] = True\n",
    "    # East\n",
    "    if (col < im.shape[1]-1) and (not segmented[row, col + 1]) and np.abs(im[row, col + 1] - seed_intesity) <= T  and segmented[row, col + 1] == False:\n",
    "        list_coordinates.append([row, col + 1])\n",
    "        segmented[row, col + 1] = True \n",
    "     \n",
    "    # West\n",
    "    if (col > 0) and (not segmented[row, col - 1]) and np.abs(im[row, col - 1] - seed_intesity) <= T  and segmented[row, col - 1] == False:\n",
    "        list_coordinates.append([row, col - 1])\n",
    "        segmented[row, col - 1] = True \n",
    "\n",
    "        # North-West\n",
    "    if (row > 0 and col > 0) and (not segmented[row - 1, col - 1]) and np.abs(im[row - 1, col - 1] - seed_intesity) <= T  and segmented[row - 1, col - 1] == False:\n",
    "        list_coordinates.append([row - 1, col - 1])\n",
    "        segmented[row - 1, col - 1] = True              \n",
    "        \n",
    "    # North-East\n",
    "    if (row > 0 and col < im.shape[1]-1) and (not segmented[row - 1, col + 1]) and np.abs(im[row - 1, col + 1] - seed_intesity) <= T  and segmented[row - 1, col + 1] == False:\n",
    "        list_coordinates.append([row - 1, col + 1])\n",
    "        segmented[row - 1, col + 1] = True \n",
    "\n",
    "    # South-West\n",
    "    if (row < im.shape[0]-1 and col > 0) and (not segmented[row + 1, col - 1]) and np.abs(im[row + 1, col - 1] - seed_intesity) <= T  and segmented[row + 1, col - 1] == False:\n",
    "        list_coordinates.append([row + 1, col - 1])\n",
    "        segmented[row + 1, col - 1] = True   \n",
    "    # South-East\n",
    "    if (row < im.shape[0]-1 and col < im.shape[1]-1) and (not segmented[row + 1, col + 1]) and np.abs(im[row + 1, col + 1] - seed_intesity) <= T  and segmented[row + 1, col + 1] == False:\n",
    "        list_coordinates.append([row + 1, col + 1])\n",
    "        segmented[row + 1, col + 1] = True \n",
    "       \n",
    "    \n",
    "        \n",
    "        "
   ]
  },
  {
   "cell_type": "code",
   "execution_count": 79,
   "metadata": {},
   "outputs": [],
   "source": [
    "def region_growing(im: np.ndarray, seed_points: list, T: int) -> np.ndarray:\n",
    "    \"\"\"\n",
    "        A region growing algorithm that segments an image into 1 or 0 (True or False).\n",
    "        Finds candidate pixels with a Moore-neighborhood (8-connectedness). \n",
    "        Uses pixel intensity thresholding with the threshold T as the homogeneity criteria.\n",
    "        The function takes in a grayscale image and outputs a boolean image\n",
    "\n",
    "        args:\n",
    "            im: np.ndarray of shape (H, W) in the range [0, 255] (dtype=np.uint8)\n",
    "            seed_points: list of list containing seed points (row, col). Ex:\n",
    "                [[row1, col1], [row2, col2], ...]\n",
    "            T: integer value defining the threshold to used for the homogeneity criteria.\n",
    "        return:\n",
    "            (np.ndarray) of shape (H, W). dtype=np.bool\n",
    "    \"\"\"\n",
    "    ### START YOUR CODE HERE ### (You can change anything inside this block)\n",
    "    # You can also define other helper functions\n",
    "    \n",
    "    image = im\n",
    "    seed_points_coordinates = seed_points\n",
    "    threshold = T \n",
    "    segmented = np.zeros_like(im).astype(bool)\n",
    "    im = im.astype(float)\n",
    "    for row, col in seed_points:\n",
    "        segmented[row, col] = True\n",
    "    \n",
    "    return iterate_through_seeds(image, seed_points_coordinates, threshold,segmented) \n",
    "    ### END YOUR CODE HERE ###\n"
   ]
  },
  {
   "cell_type": "code",
   "execution_count": 77,
   "metadata": {},
   "outputs": [
    {
     "name": "stdout",
     "output_type": "stream",
     "text": [
      "Reading image: images\\defective-weld.png\n",
      "Saving image to: image_processed\\defective-weld-segmented.png\n"
     ]
    },
    {
     "name": "stderr",
     "output_type": "stream",
     "text": [
      "C:\\Users\\Marco\\AppData\\Local\\Temp\\ipykernel_43636\\1021023314.py:24: RuntimeWarning: overflow encountered in ubyte_scalars\n",
      "  if (row < im.shape[0]-1) and (not segmented[row + 1, col]) and np.abs(im[row + 1, col] - seed_intesity) <= T  and segmented[row + 1, col] == False:\n",
      "C:\\Users\\Marco\\AppData\\Local\\Temp\\ipykernel_43636\\1021023314.py:52: RuntimeWarning: overflow encountered in ubyte_scalars\n",
      "  if (row < im.shape[0]-1 and col < im.shape[1]-1) and (not segmented[row + 1, col + 1]) and np.abs(im[row + 1, col + 1] - seed_intesity) <= T  and segmented[row + 1, col + 1] == False:\n",
      "C:\\Users\\Marco\\AppData\\Local\\Temp\\ipykernel_43636\\1021023314.py:28: RuntimeWarning: overflow encountered in ubyte_scalars\n",
      "  if (col < im.shape[1]-1) and (not segmented[row, col + 1]) and np.abs(im[row, col + 1] - seed_intesity) <= T  and segmented[row, col + 1] == False:\n",
      "C:\\Users\\Marco\\AppData\\Local\\Temp\\ipykernel_43636\\1021023314.py:48: RuntimeWarning: overflow encountered in ubyte_scalars\n",
      "  if (row < im.shape[0]-1 and col > 0) and (not segmented[row + 1, col - 1]) and np.abs(im[row + 1, col - 1] - seed_intesity) <= T  and segmented[row + 1, col - 1] == False:\n",
      "C:\\Users\\Marco\\AppData\\Local\\Temp\\ipykernel_43636\\1021023314.py:33: RuntimeWarning: overflow encountered in ubyte_scalars\n",
      "  if (col > 0) and (not segmented[row, col - 1]) and np.abs(im[row, col - 1] - seed_intesity) <= T  and segmented[row, col - 1] == False:\n",
      "C:\\Users\\Marco\\AppData\\Local\\Temp\\ipykernel_43636\\1021023314.py:38: RuntimeWarning: overflow encountered in ubyte_scalars\n",
      "  if (row > 0 and col > 0) and (not segmented[row - 1, col - 1]) and np.abs(im[row - 1, col - 1] - seed_intesity) <= T  and segmented[row - 1, col - 1] == False:\n",
      "C:\\Users\\Marco\\AppData\\Local\\Temp\\ipykernel_43636\\1021023314.py:20: RuntimeWarning: overflow encountered in ubyte_scalars\n",
      "  if (row > 0) and (not segmented[row - 1, col]) and np.abs(im[row - 1, col] - seed_intesity) <= T  and segmented[row - 1, col] == False:\n",
      "C:\\Users\\Marco\\AppData\\Local\\Temp\\ipykernel_43636\\1021023314.py:43: RuntimeWarning: overflow encountered in ubyte_scalars\n",
      "  if (row > 0 and col < im.shape[1]-1) and (not segmented[row - 1, col + 1]) and np.abs(im[row - 1, col + 1] - seed_intesity) <= T  and segmented[row - 1, col + 1] == False:\n",
      "C:\\Users\\Marco\\AppData\\Local\\Temp\\ipykernel_43636\\3052954727.py:16: DeprecationWarning: `np.bool` is a deprecated alias for the builtin `bool`. To silence this warning, use `bool` by itself. Doing this will not modify any behavior and is safe. If you specifically wanted the numpy scalar type, use `np.bool_` here.\n",
      "Deprecated in NumPy 1.20; for more details and guidance: https://numpy.org/devdocs/release/1.20.0-notes.html#deprecations\n",
      "  assert segmented_image.dtype == np.bool, \"Expected thresholded image dtype to be np.bool. Was: {}\".format(\n"
     ]
    }
   ],
   "source": [
    "if __name__ == \"__main__\":\n",
    "    # DO NOT CHANGE\n",
    "    im = utils.read_image(\"defective-weld.png\")\n",
    "\n",
    "    seed_points = [ # (row, column)\n",
    "        [254, 138], # Seed point 1\n",
    "        [253, 296], # Seed point 2\n",
    "        [233, 436], # Seed point 3\n",
    "        [232, 417], # Seed point 4\n",
    "    ]\n",
    "    intensity_threshold = 50\n",
    "    segmented_image = region_growing(im, seed_points, intensity_threshold)\n",
    "\n",
    "    assert im.shape == segmented_image.shape, \"Expected image shape ({}) to be same as thresholded image shape ({})\".format(\n",
    "        im.shape, segmented_image.shape)\n",
    "    assert segmented_image.dtype == np.bool, \"Expected thresholded image dtype to be np.bool. Was: {}\".format(\n",
    "            segmented_image.dtype)\n",
    "\n",
    "    segmented_image = utils.to_uint8(segmented_image)\n",
    "    utils.save_im(\"defective-weld-segmented.png\", segmented_image)"
   ]
  }
 ],
 "metadata": {
  "kernelspec": {
   "display_name": "Python 3.9.13 64-bit (microsoft store)",
   "language": "python",
   "name": "python3"
  },
  "language_info": {
   "codemirror_mode": {
    "name": "ipython",
    "version": 3
   },
   "file_extension": ".py",
   "mimetype": "text/x-python",
   "name": "python",
   "nbconvert_exporter": "python",
   "pygments_lexer": "ipython3",
   "version": "3.9.13"
  },
  "vscode": {
   "interpreter": {
    "hash": "06cf422a2cd8d706afb2d7dababd374b1cf2a61f92af53d13a33dba8380d7ca3"
   }
  }
 },
 "nbformat": 4,
 "nbformat_minor": 4
}
