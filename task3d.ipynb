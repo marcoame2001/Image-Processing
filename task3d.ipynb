{
 "cells": [
  {
   "cell_type": "code",
   "execution_count": 1,
   "metadata": {},
   "outputs": [
    {
     "name": "stderr",
     "output_type": "stream",
     "text": [
      "C:\\Users\\Marco\\AppData\\Local\\Packages\\PythonSoftwareFoundation.Python.3.9_qbz5n2kfra8p0\\LocalCache\\local-packages\\Python39\\site-packages\\tqdm\\auto.py:22: TqdmWarning: IProgress not found. Please update jupyter and ipywidgets. See https://ipywidgets.readthedocs.io/en/stable/user_install.html\n",
      "  from .autonotebook import tqdm as notebook_tqdm\n"
     ]
    }
   ],
   "source": [
    "import utils\n",
    "import skimage\n",
    "import skimage.morphology as morphology\n",
    "import numpy as np"
   ]
  },
  {
   "cell_type": "code",
   "execution_count": 4,
   "metadata": {},
   "outputs": [],
   "source": [
    "def fill_holes(im: np.ndarray, starting_points: list, num_iterations: int) -> np.ndarray:\n",
    "    \"\"\"\n",
    "        A function that takes a binary image (im),  and a set of points \n",
    "        indicating position of holes, and fills the holes.\n",
    "\n",
    "        args:\n",
    "            im: np.ndarray of shape (H, W) with boolean values (dtype=np.bool)\n",
    "            starting_points: list of list containing starting points (row, col). Ex:\n",
    "                [[row1, col1], [row2, col2], ...]\n",
    "            num_iterations: integer defining the number of iterations to apply the \n",
    "                            hole filling algorithm\n",
    "        return:\n",
    "            (np.ndarray) of shape (H, W). dtype=np.bool\n",
    "    \"\"\"\n",
    "    ### START YOUR CODE HERE ### (You can change anything inside this block)\n",
    "    # You can also define other helper functions\n",
    "    structuring_element = np.array([\n",
    "        [1, 1, 1],\n",
    "        [1, 1, 1],\n",
    "        [1, 1, 1]\n",
    "    ], dtype=bool)\n",
    "    result = im.copy()\n",
    "    \n",
    "    X = np.zeros_like(result) \n",
    "    for row, col in starting_points:\n",
    "        X[row, col] = 1\n",
    "    \n",
    "    for k in range(1,num_iterations+1):\n",
    "        X = np.logical_and(morphology.binary_dilation(X, structuring_element), np.logical_not(im)) #and operation to represent union\n",
    "    \n",
    "    result = np.logical_or(X, im)\n",
    "    return result\n",
    "    ### END YOUR CODE HERE ###"
   ]
  },
  {
   "cell_type": "code",
   "execution_count": 5,
   "metadata": {},
   "outputs": [
    {
     "name": "stdout",
     "output_type": "stream",
     "text": [
      "Reading image: images\\balls-with-reflections.png\n",
      "Saving image to: image_processed\\balls-with-reflections-filled.png\n"
     ]
    },
    {
     "name": "stderr",
     "output_type": "stream",
     "text": [
      "C:\\Users\\Marco\\AppData\\Local\\Temp\\ipykernel_22488\\2043816858.py:28: DeprecationWarning: `np.bool` is a deprecated alias for the builtin `bool`. To silence this warning, use `bool` by itself. Doing this will not modify any behavior and is safe. If you specifically wanted the numpy scalar type, use `np.bool_` here.\n",
      "Deprecated in NumPy 1.20; for more details and guidance: https://numpy.org/devdocs/release/1.20.0-notes.html#deprecations\n",
      "  assert result.dtype == np.bool, \"Expected resulting image dtype to be np.bool. Was: {}\".format(\n"
     ]
    }
   ],
   "source": [
    "if __name__ == \"__main__\":\n",
    "    im = utils.read_image(\"balls-with-reflections.png\")\n",
    "    binary_image = im != 0\n",
    "    starting_points = [ # (row, column)\n",
    "        [51, 64],\n",
    "        [44, 180],\n",
    "        [35, 365],\n",
    "        [156, 94],\n",
    "        [141, 264],\n",
    "        [138, 467],\n",
    "        [198, 180],\n",
    "        [229, 413],\n",
    "        [294, 103],\n",
    "        [302, 230],\n",
    "        [368, 388],\n",
    "        [352, 489],\n",
    "        [454, 57],\n",
    "        [457, 236],\n",
    "        [469, 400],\n",
    "        [489, 506]\n",
    "    ]\n",
    "    num_iterations = 30\n",
    "\n",
    "    result = fill_holes(binary_image, starting_points, num_iterations)\n",
    "\n",
    "    assert im.shape == result.shape, \"Expected image shape ({}) to be same as resulting image shape ({})\".format(\n",
    "            im.shape, result.shape)\n",
    "    assert result.dtype == np.bool, \"Expected resulting image dtype to be np.bool. Was: {}\".format(\n",
    "            result.dtype)\n",
    "\n",
    "    result = utils.to_uint8(result)\n",
    "    utils.save_im(\"balls-with-reflections-filled.png\", result)"
   ]
  }
 ],
 "metadata": {
  "kernelspec": {
   "display_name": "Python 3.9.13 64-bit (microsoft store)",
   "language": "python",
   "name": "python3"
  },
  "language_info": {
   "codemirror_mode": {
    "name": "ipython",
    "version": 3
   },
   "file_extension": ".py",
   "mimetype": "text/x-python",
   "name": "python",
   "nbconvert_exporter": "python",
   "pygments_lexer": "ipython3",
   "version": "3.9.13"
  },
  "vscode": {
   "interpreter": {
    "hash": "06cf422a2cd8d706afb2d7dababd374b1cf2a61f92af53d13a33dba8380d7ca3"
   }
  }
 },
 "nbformat": 4,
 "nbformat_minor": 4
}
